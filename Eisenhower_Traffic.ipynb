{
 "cells": [
  {
   "cell_type": "code",
   "execution_count": 1,
   "id": "8677c341",
   "metadata": {},
   "outputs": [
    {
     "data": {
      "text/html": [
       "<style>.container { width:100% !important; }</style>"
      ],
      "text/plain": [
       "<IPython.core.display.HTML object>"
      ]
     },
     "metadata": {},
     "output_type": "display_data"
    }
   ],
   "source": [
    "from IPython.display import display, HTML\n",
    "display(HTML(\"<style>.container { width:100% !important; }</style>\"))"
   ]
  },
  {
   "cell_type": "markdown",
   "id": "c461ade6",
   "metadata": {},
   "source": [
    "Data From \n",
    "Station: 000106 ON I-70 NE/O SH 9, BLUE RIVER PKWY, AT EISENHOWER TUNNEL\t\n",
    "Annual csv files from 2018 to 2023\n",
    "https://dtdapps.coloradodot.info/otis/TrafficData#ui/1/1/0/station/000106/criteria/070A/0/449.589/false/true/\n"
   ]
  },
  {
   "cell_type": "code",
   "execution_count": 2,
   "id": "261107dc",
   "metadata": {},
   "outputs": [],
   "source": [
    "# import all packages needed \n",
    "import seaborn as sns\n",
    "import numpy as np\n",
    "import pandas as pd\n",
    "import glob\n",
    "import scipy.stats\n",
    "from matplotlib import pyplot as plt\n",
    "import seaborn as sns\n",
    "import plotly.express as px\n",
    "plt.style.use('ggplot')\n",
    "import os\n",
    "if not os.path.exists(\"images\"):\n",
    "    os.mkdir(\"images\")\n",
    "import kaleido \n",
    "import plotly.graph_objects as go"
   ]
  },
  {
   "cell_type": "code",
   "execution_count": 3,
   "id": "1bb1a31b",
   "metadata": {},
   "outputs": [],
   "source": [
    "# Read csvs\n",
    "Eisenhower_raw = pd.concat(map(pd.read_csv, \n",
    "                            ['E_2018.csv','E_2019.csv','E_2020.csv', 'E_2021.csv','E_2022.csv','E_2023.csv']))\n",
    "\n",
    "# Convert date to a formatted date\n",
    "Eisenhower_raw['COUNTDATE'] = pd.to_datetime(Eisenhower_raw['FormattedDate'], infer_datetime_format = True)\n",
    "\n",
    "# Set index to formatted date\n",
    "Eisenhower_raw = Eisenhower_raw.set_index('COUNTDATE')\n",
    "\n",
    "# Add weekdays and months using the formatted date \n",
    "Eisenhower_raw['Weekday'] =  Eisenhower_raw.index.dayofweek\n",
    "Eisenhower_raw['Month'] = Eisenhower_raw.index.month\n",
    "\n",
    "# Split dataframe into eastbound and westbound dataframes \n",
    "Eisenhower_West = Eisenhower_raw.loc[Eisenhower_raw.COUNTDIR != 'P', :]  \n",
    "Eisenhower_East = Eisenhower_raw.loc[Eisenhower_raw.COUNTDIR == 'P', :]"
   ]
  },
  {
   "cell_type": "code",
   "execution_count": 4,
   "id": "50a3d6c7",
   "metadata": {},
   "outputs": [
    {
     "data": {
      "text/html": [
       "<div>\n",
       "<style scoped>\n",
       "    .dataframe tbody tr th:only-of-type {\n",
       "        vertical-align: middle;\n",
       "    }\n",
       "\n",
       "    .dataframe tbody tr th {\n",
       "        vertical-align: top;\n",
       "    }\n",
       "\n",
       "    .dataframe thead th {\n",
       "        text-align: right;\n",
       "    }\n",
       "</style>\n",
       "<table border=\"1\" class=\"dataframe\">\n",
       "  <thead>\n",
       "    <tr style=\"text-align: right;\">\n",
       "      <th></th>\n",
       "      <th>COUNTSTATIONID</th>\n",
       "      <th>COUNTDIR</th>\n",
       "      <th>HOUR0</th>\n",
       "      <th>HOUR1</th>\n",
       "      <th>HOUR2</th>\n",
       "      <th>HOUR3</th>\n",
       "      <th>HOUR4</th>\n",
       "      <th>HOUR5</th>\n",
       "      <th>HOUR6</th>\n",
       "      <th>HOUR7</th>\n",
       "      <th>...</th>\n",
       "      <th>HOUR17</th>\n",
       "      <th>HOUR18</th>\n",
       "      <th>HOUR19</th>\n",
       "      <th>HOUR20</th>\n",
       "      <th>HOUR21</th>\n",
       "      <th>HOUR22</th>\n",
       "      <th>HOUR23</th>\n",
       "      <th>FormattedDate</th>\n",
       "      <th>Weekday</th>\n",
       "      <th>Month</th>\n",
       "    </tr>\n",
       "    <tr>\n",
       "      <th>COUNTDATE</th>\n",
       "      <th></th>\n",
       "      <th></th>\n",
       "      <th></th>\n",
       "      <th></th>\n",
       "      <th></th>\n",
       "      <th></th>\n",
       "      <th></th>\n",
       "      <th></th>\n",
       "      <th></th>\n",
       "      <th></th>\n",
       "      <th></th>\n",
       "      <th></th>\n",
       "      <th></th>\n",
       "      <th></th>\n",
       "      <th></th>\n",
       "      <th></th>\n",
       "      <th></th>\n",
       "      <th></th>\n",
       "      <th></th>\n",
       "      <th></th>\n",
       "      <th></th>\n",
       "    </tr>\n",
       "  </thead>\n",
       "  <tbody>\n",
       "    <tr>\n",
       "      <th>2018-01-01</th>\n",
       "      <td>106</td>\n",
       "      <td>S</td>\n",
       "      <td>64</td>\n",
       "      <td>95</td>\n",
       "      <td>86</td>\n",
       "      <td>78</td>\n",
       "      <td>73</td>\n",
       "      <td>113</td>\n",
       "      <td>304</td>\n",
       "      <td>952</td>\n",
       "      <td>...</td>\n",
       "      <td>893</td>\n",
       "      <td>638</td>\n",
       "      <td>501</td>\n",
       "      <td>457</td>\n",
       "      <td>320</td>\n",
       "      <td>230</td>\n",
       "      <td>134</td>\n",
       "      <td>1/1/2018</td>\n",
       "      <td>0</td>\n",
       "      <td>1</td>\n",
       "    </tr>\n",
       "    <tr>\n",
       "      <th>2018-01-02</th>\n",
       "      <td>106</td>\n",
       "      <td>S</td>\n",
       "      <td>84</td>\n",
       "      <td>92</td>\n",
       "      <td>89</td>\n",
       "      <td>91</td>\n",
       "      <td>123</td>\n",
       "      <td>257</td>\n",
       "      <td>477</td>\n",
       "      <td>984</td>\n",
       "      <td>...</td>\n",
       "      <td>921</td>\n",
       "      <td>715</td>\n",
       "      <td>571</td>\n",
       "      <td>463</td>\n",
       "      <td>303</td>\n",
       "      <td>300</td>\n",
       "      <td>221</td>\n",
       "      <td>1/2/2018</td>\n",
       "      <td>1</td>\n",
       "      <td>1</td>\n",
       "    </tr>\n",
       "    <tr>\n",
       "      <th>2018-01-03</th>\n",
       "      <td>106</td>\n",
       "      <td>S</td>\n",
       "      <td>138</td>\n",
       "      <td>114</td>\n",
       "      <td>83</td>\n",
       "      <td>83</td>\n",
       "      <td>81</td>\n",
       "      <td>219</td>\n",
       "      <td>472</td>\n",
       "      <td>1054</td>\n",
       "      <td>...</td>\n",
       "      <td>860</td>\n",
       "      <td>684</td>\n",
       "      <td>586</td>\n",
       "      <td>478</td>\n",
       "      <td>395</td>\n",
       "      <td>284</td>\n",
       "      <td>186</td>\n",
       "      <td>1/3/2018</td>\n",
       "      <td>2</td>\n",
       "      <td>1</td>\n",
       "    </tr>\n",
       "    <tr>\n",
       "      <th>2018-01-04</th>\n",
       "      <td>106</td>\n",
       "      <td>S</td>\n",
       "      <td>150</td>\n",
       "      <td>134</td>\n",
       "      <td>78</td>\n",
       "      <td>114</td>\n",
       "      <td>103</td>\n",
       "      <td>227</td>\n",
       "      <td>429</td>\n",
       "      <td>963</td>\n",
       "      <td>...</td>\n",
       "      <td>933</td>\n",
       "      <td>914</td>\n",
       "      <td>759</td>\n",
       "      <td>637</td>\n",
       "      <td>408</td>\n",
       "      <td>307</td>\n",
       "      <td>216</td>\n",
       "      <td>1/4/2018</td>\n",
       "      <td>3</td>\n",
       "      <td>1</td>\n",
       "    </tr>\n",
       "    <tr>\n",
       "      <th>2018-01-05</th>\n",
       "      <td>106</td>\n",
       "      <td>S</td>\n",
       "      <td>172</td>\n",
       "      <td>100</td>\n",
       "      <td>91</td>\n",
       "      <td>91</td>\n",
       "      <td>92</td>\n",
       "      <td>223</td>\n",
       "      <td>431</td>\n",
       "      <td>1007</td>\n",
       "      <td>...</td>\n",
       "      <td>1693</td>\n",
       "      <td>1533</td>\n",
       "      <td>1473</td>\n",
       "      <td>1163</td>\n",
       "      <td>752</td>\n",
       "      <td>431</td>\n",
       "      <td>292</td>\n",
       "      <td>1/5/2018</td>\n",
       "      <td>4</td>\n",
       "      <td>1</td>\n",
       "    </tr>\n",
       "  </tbody>\n",
       "</table>\n",
       "<p>5 rows × 29 columns</p>\n",
       "</div>"
      ],
      "text/plain": [
       "            COUNTSTATIONID COUNTDIR  HOUR0  HOUR1  HOUR2  HOUR3  HOUR4  HOUR5  \\\n",
       "COUNTDATE                                                                       \n",
       "2018-01-01             106        S     64     95     86     78     73    113   \n",
       "2018-01-02             106        S     84     92     89     91    123    257   \n",
       "2018-01-03             106        S    138    114     83     83     81    219   \n",
       "2018-01-04             106        S    150    134     78    114    103    227   \n",
       "2018-01-05             106        S    172    100     91     91     92    223   \n",
       "\n",
       "            HOUR6  HOUR7  ...  HOUR17  HOUR18  HOUR19  HOUR20  HOUR21  HOUR22  \\\n",
       "COUNTDATE                 ...                                                   \n",
       "2018-01-01    304    952  ...     893     638     501     457     320     230   \n",
       "2018-01-02    477    984  ...     921     715     571     463     303     300   \n",
       "2018-01-03    472   1054  ...     860     684     586     478     395     284   \n",
       "2018-01-04    429    963  ...     933     914     759     637     408     307   \n",
       "2018-01-05    431   1007  ...    1693    1533    1473    1163     752     431   \n",
       "\n",
       "            HOUR23  FormattedDate  Weekday  Month  \n",
       "COUNTDATE                                          \n",
       "2018-01-01     134       1/1/2018        0      1  \n",
       "2018-01-02     221       1/2/2018        1      1  \n",
       "2018-01-03     186       1/3/2018        2      1  \n",
       "2018-01-04     216       1/4/2018        3      1  \n",
       "2018-01-05     292       1/5/2018        4      1  \n",
       "\n",
       "[5 rows x 29 columns]"
      ]
     },
     "execution_count": 4,
     "metadata": {},
     "output_type": "execute_result"
    }
   ],
   "source": [
    "Eisenhower_West.head()"
   ]
  },
  {
   "cell_type": "code",
   "execution_count": 5,
   "id": "60ed2928",
   "metadata": {},
   "outputs": [
    {
     "name": "stderr",
     "output_type": "stream",
     "text": [
      "C:\\Users\\Natalie\\AppData\\Local\\Temp\\ipykernel_24888\\1282814503.py:12: FutureWarning: The default value of numeric_only in DataFrameGroupBy.mean is deprecated. In a future version, numeric_only will default to False. Either specify numeric_only or select only columns which should be valid for the function.\n",
      "  a = Pre_Eisenhower_West.groupby(['Month','Weekday']).mean()\n",
      "C:\\Users\\Natalie\\AppData\\Local\\Temp\\ipykernel_24888\\1282814503.py:13: FutureWarning: The default value of numeric_only in DataFrameGroupBy.mean is deprecated. In a future version, numeric_only will default to False. Either specify numeric_only or select only columns which should be valid for the function.\n",
      "  b = Post_Eisenhower_West.groupby(['Month','Weekday']).mean()\n",
      "C:\\Users\\Natalie\\AppData\\Local\\Temp\\ipykernel_24888\\1282814503.py:14: FutureWarning: The default value of numeric_only in DataFrameGroupBy.mean is deprecated. In a future version, numeric_only will default to False. Either specify numeric_only or select only columns which should be valid for the function.\n",
      "  c = During_Eisenhower_West.groupby(['Month','Weekday']).mean()\n"
     ]
    }
   ],
   "source": [
    "# split dataframes into pre and post covid data frames \n",
    "Pre_Eisenhower_West = Eisenhower_West.loc['2019-02-01':'2019-04-30']\n",
    "Pre_Eisenhower_East = Eisenhower_East.loc['2019-02-01':'2019-04-30']\n",
    "\n",
    "Post_Eisenhower_West = Eisenhower_West.loc['2023-02-01':'2023-04-30']\n",
    "Post_Eisenhower_East = Eisenhower_East.loc['2023-02-01':'2023-04-30']\n",
    "\n",
    "During_Eisenhower_West = Eisenhower_West.loc['2020-02-01':'2020-04-30']\n",
    "During_Eisenhower_East = Eisenhower_East.loc['2020-02-01':'2020-04-30']\n",
    "\n",
    "# group them my means of the month and weekday so they have the same number of rows \n",
    "a = Pre_Eisenhower_West.groupby(['Month','Weekday']).mean()\n",
    "b = Post_Eisenhower_West.groupby(['Month','Weekday']).mean()\n",
    "c = During_Eisenhower_West.groupby(['Month','Weekday']).mean()"
   ]
  },
  {
   "cell_type": "code",
   "execution_count": 6,
   "id": "43a96cb4",
   "metadata": {},
   "outputs": [],
   "source": [
    "dict = {1 : 'January', 2 : 'February', 3 : 'March', 4: 'April', 5 : 'May', 6 : 'June', 7 : \n",
    "        'July', 8 : 'August', 9 : 'September', 10 : 'October', 11 : 'November', 12 : 'December'}\n",
    "dict2 = {0 : 'Monday', 1 : 'Tuesday', 2 : 'Wednesday',  3: 'Thursday', 4 : 'Friday', 5 : 'Saturday', 6 : 'Sunday'}"
   ]
  },
  {
   "cell_type": "code",
   "execution_count": 7,
   "id": "dd767a2c",
   "metadata": {},
   "outputs": [],
   "source": [
    "# make lists for weekdays, months, and hours \n",
    "days_ = list(range(7))\n",
    "days_ = days_ * 72\n",
    "\n",
    "hours_ = list(range(24))\n",
    "hours_ = hours_ * 21\n",
    "hours_.sort()\n",
    "\n",
    "month_ = (list(range(2,3))* 7) + (list(range(3,4))* 7)  + (list(range(4,5))* 7)\n",
    "month_ = month_ * 24\n",
    "\n",
    "# make lists of counts of just one column for all months, weekdays, and hours \n",
    "listPre = []\n",
    "column = range(1,25)\n",
    "for i in column:\n",
    "    list1 = list(a.iloc[:,i])\n",
    "    listPre += list1\n",
    "\n",
    "listDur = []\n",
    "column = range(1,25)\n",
    "for i in column:\n",
    "    list2 = list(c.iloc[:,i])\n",
    "    listDur += list2\n",
    "    \n",
    "listPost = []\n",
    "column = range(1,25)\n",
    "for i in column:\n",
    "    list3 = list(b.iloc[:,i])\n",
    "    listPost += list3\n",
    "    \n",
    "# create dataframes for each covid dataframe with columns month, weekday, hour, and counts \n",
    "dataPre = {'Month' : month_ , 'Weekday': days_ , 'Hour': hours_ , 'CountPre': listPre}\n",
    "PreCovid = pd.DataFrame(dataPre)\n",
    "\n",
    "dataDur = {'Month' : month_ , 'Weekday': days_ , 'Hour': hours_ , 'CountDur': listDur}\n",
    "DurCovid = pd.DataFrame(dataDur)\n",
    "\n",
    "dataPost = {'Month' : month_ , 'Weekday': days_ , 'Hour': hours_ , 'CountPost': listPost}\n",
    "PostCovid = pd.DataFrame(dataPost)\n",
    "PostCovid\n",
    "\n",
    "#merge pre, during, and post covid into one dataframe \n",
    "All_Covid = pd.merge(PreCovid, DurCovid, on = ('Month', 'Weekday', 'Hour'))\n",
    "All_Covid = pd.merge(All_Covid, PostCovid, on = ('Month', 'Weekday', 'Hour'))\n",
    "\n",
    "All_Covid = All_Covid.replace({\"Month\": dict})\n",
    "All_Covid = All_Covid.replace({\"Weekday\": dict2})\n",
    "\n",
    "# make another version of the covid data so that it can all be stacked on top of itself \n",
    "dataPre2 = {'Month' : month_ , 'Weekday': days_ , 'Hour': hours_ , 'Time' : 'Pre', 'Count': listPre}\n",
    "PreCovid2 = pd.DataFrame(dataPre2)\n",
    "\n",
    "dataDur2 = {'Month' : month_ , 'Weekday': days_ , 'Hour': hours_ , 'Time' : 'During', 'Count': listDur}\n",
    "DurCovid2 = pd.DataFrame(dataDur2)\n",
    "\n",
    "dataPost2 = {'Month' : month_ , 'Weekday': days_ , 'Hour': hours_ , 'Time' : 'Post', 'Count': listPost}\n",
    "PostCovid2 = pd.DataFrame(dataPost2)\n",
    "\n",
    "Covid_stacked = pd.concat([PreCovid2, DurCovid2, PostCovid2], axis = 0)\n",
    "\n",
    "Covid_stacked = Covid_stacked.replace({\"Month\": dict})\n",
    "Covid_stacked = Covid_stacked.replace({\"Weekday\": dict2})"
   ]
  },
  {
   "cell_type": "code",
   "execution_count": 8,
   "id": "29dc458c",
   "metadata": {},
   "outputs": [
    {
     "data": {
      "text/html": [
       "<div>\n",
       "<style scoped>\n",
       "    .dataframe tbody tr th:only-of-type {\n",
       "        vertical-align: middle;\n",
       "    }\n",
       "\n",
       "    .dataframe tbody tr th {\n",
       "        vertical-align: top;\n",
       "    }\n",
       "\n",
       "    .dataframe thead th {\n",
       "        text-align: right;\n",
       "    }\n",
       "</style>\n",
       "<table border=\"1\" class=\"dataframe\">\n",
       "  <thead>\n",
       "    <tr style=\"text-align: right;\">\n",
       "      <th></th>\n",
       "      <th>Month</th>\n",
       "      <th>Weekday</th>\n",
       "      <th>Hour</th>\n",
       "      <th>CountPre</th>\n",
       "      <th>CountDur</th>\n",
       "      <th>CountPost</th>\n",
       "    </tr>\n",
       "  </thead>\n",
       "  <tbody>\n",
       "    <tr>\n",
       "      <th>0</th>\n",
       "      <td>February</td>\n",
       "      <td>Monday</td>\n",
       "      <td>0</td>\n",
       "      <td>128.25</td>\n",
       "      <td>99.75</td>\n",
       "      <td>111.25</td>\n",
       "    </tr>\n",
       "    <tr>\n",
       "      <th>1</th>\n",
       "      <td>February</td>\n",
       "      <td>Tuesday</td>\n",
       "      <td>0</td>\n",
       "      <td>115.25</td>\n",
       "      <td>96.50</td>\n",
       "      <td>115.25</td>\n",
       "    </tr>\n",
       "    <tr>\n",
       "      <th>2</th>\n",
       "      <td>February</td>\n",
       "      <td>Wednesday</td>\n",
       "      <td>0</td>\n",
       "      <td>130.50</td>\n",
       "      <td>127.25</td>\n",
       "      <td>124.50</td>\n",
       "    </tr>\n",
       "    <tr>\n",
       "      <th>3</th>\n",
       "      <td>February</td>\n",
       "      <td>Thursday</td>\n",
       "      <td>0</td>\n",
       "      <td>231.00</td>\n",
       "      <td>231.00</td>\n",
       "      <td>246.75</td>\n",
       "    </tr>\n",
       "    <tr>\n",
       "      <th>4</th>\n",
       "      <td>February</td>\n",
       "      <td>Friday</td>\n",
       "      <td>0</td>\n",
       "      <td>306.75</td>\n",
       "      <td>219.25</td>\n",
       "      <td>243.75</td>\n",
       "    </tr>\n",
       "    <tr>\n",
       "      <th>...</th>\n",
       "      <td>...</td>\n",
       "      <td>...</td>\n",
       "      <td>...</td>\n",
       "      <td>...</td>\n",
       "      <td>...</td>\n",
       "      <td>...</td>\n",
       "    </tr>\n",
       "    <tr>\n",
       "      <th>499</th>\n",
       "      <td>April</td>\n",
       "      <td>Wednesday</td>\n",
       "      <td>23</td>\n",
       "      <td>156.75</td>\n",
       "      <td>76.60</td>\n",
       "      <td>210.00</td>\n",
       "    </tr>\n",
       "    <tr>\n",
       "      <th>500</th>\n",
       "      <td>April</td>\n",
       "      <td>Thursday</td>\n",
       "      <td>23</td>\n",
       "      <td>276.25</td>\n",
       "      <td>65.60</td>\n",
       "      <td>245.00</td>\n",
       "    </tr>\n",
       "    <tr>\n",
       "      <th>501</th>\n",
       "      <td>April</td>\n",
       "      <td>Friday</td>\n",
       "      <td>23</td>\n",
       "      <td>320.00</td>\n",
       "      <td>63.25</td>\n",
       "      <td>220.75</td>\n",
       "    </tr>\n",
       "    <tr>\n",
       "      <th>502</th>\n",
       "      <td>April</td>\n",
       "      <td>Saturday</td>\n",
       "      <td>23</td>\n",
       "      <td>229.50</td>\n",
       "      <td>55.50</td>\n",
       "      <td>204.20</td>\n",
       "    </tr>\n",
       "    <tr>\n",
       "      <th>503</th>\n",
       "      <td>April</td>\n",
       "      <td>Sunday</td>\n",
       "      <td>23</td>\n",
       "      <td>208.25</td>\n",
       "      <td>55.00</td>\n",
       "      <td>192.20</td>\n",
       "    </tr>\n",
       "  </tbody>\n",
       "</table>\n",
       "<p>504 rows × 6 columns</p>\n",
       "</div>"
      ],
      "text/plain": [
       "        Month    Weekday  Hour  CountPre  CountDur  CountPost\n",
       "0    February     Monday     0    128.25     99.75     111.25\n",
       "1    February    Tuesday     0    115.25     96.50     115.25\n",
       "2    February  Wednesday     0    130.50    127.25     124.50\n",
       "3    February   Thursday     0    231.00    231.00     246.75\n",
       "4    February     Friday     0    306.75    219.25     243.75\n",
       "..        ...        ...   ...       ...       ...        ...\n",
       "499     April  Wednesday    23    156.75     76.60     210.00\n",
       "500     April   Thursday    23    276.25     65.60     245.00\n",
       "501     April     Friday    23    320.00     63.25     220.75\n",
       "502     April   Saturday    23    229.50     55.50     204.20\n",
       "503     April     Sunday    23    208.25     55.00     192.20\n",
       "\n",
       "[504 rows x 6 columns]"
      ]
     },
     "execution_count": 8,
     "metadata": {},
     "output_type": "execute_result"
    }
   ],
   "source": [
    "All_Covid"
   ]
  },
  {
   "cell_type": "code",
   "execution_count": 9,
   "id": "cb937202",
   "metadata": {},
   "outputs": [
    {
     "name": "stderr",
     "output_type": "stream",
     "text": [
      "C:\\Users\\Natalie\\AppData\\Local\\Temp\\ipykernel_24888\\1121973974.py:5: FutureWarning: The default value of numeric_only in DataFrameGroupBy.mean is deprecated. In a future version, numeric_only will default to False. Either specify numeric_only or select only columns which should be valid for the function.\n",
      "  W_ski_Weekday = W_ski.groupby('Weekday').mean()\n",
      "C:\\Users\\Natalie\\AppData\\Local\\Temp\\ipykernel_24888\\1121973974.py:10: FutureWarning: The default value of numeric_only in DataFrameGroupBy.mean is deprecated. In a future version, numeric_only will default to False. Either specify numeric_only or select only columns which should be valid for the function.\n",
      "  E_ski_Weekday = E_ski.groupby('Weekday').mean()\n"
     ]
    }
   ],
   "source": [
    "# split dataframes into west and east during ski season and grouped by weekday \n",
    "W_ski = Eisenhower_West.loc[(Eisenhower_West.Month ==1) | (Eisenhower_West.Month == 2) | \n",
    "                           (Eisenhower_West.Month ==12) | (Eisenhower_West.Month ==3)]\n",
    "\n",
    "W_ski_Weekday = W_ski.groupby('Weekday').mean()\n",
    "\n",
    "E_ski = Eisenhower_East.loc[(Eisenhower_East.Month ==1) | (Eisenhower_East.Month == 2) | \n",
    "                           (Eisenhower_East.Month ==12) | (Eisenhower_East.Month ==3)]\n",
    "\n",
    "E_ski_Weekday = E_ski.groupby('Weekday').mean()"
   ]
  },
  {
   "cell_type": "code",
   "execution_count": 10,
   "id": "e3386eea",
   "metadata": {},
   "outputs": [
    {
     "name": "stderr",
     "output_type": "stream",
     "text": [
      "C:\\Users\\Natalie\\AppData\\Local\\Temp\\ipykernel_24888\\1694854922.py:5: FutureWarning: The default value of numeric_only in DataFrameGroupBy.mean is deprecated. In a future version, numeric_only will default to False. Either specify numeric_only or select only columns which should be valid for the function.\n",
      "  W_summer_Weekday = W_summer.groupby('Weekday').mean()\n",
      "C:\\Users\\Natalie\\AppData\\Local\\Temp\\ipykernel_24888\\1694854922.py:10: FutureWarning: The default value of numeric_only in DataFrameGroupBy.mean is deprecated. In a future version, numeric_only will default to False. Either specify numeric_only or select only columns which should be valid for the function.\n",
      "  E_summer_Weekday = E_summer.groupby('Weekday').mean()\n"
     ]
    }
   ],
   "source": [
    "# split dataframes into west and east during summer and grouped by weekday \n",
    "W_summer = Eisenhower_West.loc[(Eisenhower_West.Month ==6) | (Eisenhower_West.Month == 7) | \n",
    "                           (Eisenhower_West.Month ==8) | (Eisenhower_West.Month ==9)]\n",
    "\n",
    "W_summer_Weekday = W_summer.groupby('Weekday').mean()\n",
    "\n",
    "E_summer = Eisenhower_East.loc[(Eisenhower_East.Month ==6) | (Eisenhower_East.Month == 7) | \n",
    "                           (Eisenhower_East.Month ==8) | (Eisenhower_East.Month ==9)]\n",
    "\n",
    "E_summer_Weekday = E_summer.groupby('Weekday').mean()"
   ]
  },
  {
   "cell_type": "code",
   "execution_count": 11,
   "id": "fe9fdb4a",
   "metadata": {},
   "outputs": [
    {
     "name": "stderr",
     "output_type": "stream",
     "text": [
      "C:\\Users\\Natalie\\AppData\\Local\\Temp\\ipykernel_24888\\1090039887.py:5: FutureWarning: The default value of numeric_only in DataFrameGroupBy.mean is deprecated. In a future version, numeric_only will default to False. Either specify numeric_only or select only columns which should be valid for the function.\n",
      "  W_shoulder_Weekday = W_shoulder.groupby('Weekday').mean()\n",
      "C:\\Users\\Natalie\\AppData\\Local\\Temp\\ipykernel_24888\\1090039887.py:10: FutureWarning: The default value of numeric_only in DataFrameGroupBy.mean is deprecated. In a future version, numeric_only will default to False. Either specify numeric_only or select only columns which should be valid for the function.\n",
      "  E_shoulder_Weekday = E_shoulder.groupby('Weekday').mean()\n"
     ]
    }
   ],
   "source": [
    "# split dataframes into west and east during shoulder season and grouped by weekday \n",
    "W_shoulder = Eisenhower_West.loc[(Eisenhower_West.Month == 4) | (Eisenhower_West.Month == 5) | \n",
    "                           (Eisenhower_West.Month ==10) | (Eisenhower_West.Month ==11)]\n",
    "\n",
    "W_shoulder_Weekday = W_shoulder.groupby('Weekday').mean()\n",
    "\n",
    "E_shoulder = Eisenhower_East.loc[(Eisenhower_East.Month ==4) | (Eisenhower_East.Month == 5) | \n",
    "                           (Eisenhower_East.Month ==10) | (Eisenhower_East.Month ==11)]\n",
    "\n",
    "E_shoulder_Weekday = E_shoulder.groupby('Weekday').mean()"
   ]
  },
  {
   "cell_type": "code",
   "execution_count": 12,
   "id": "51cd3b88",
   "metadata": {},
   "outputs": [],
   "source": [
    "# Make a list of weekdays 0 to 7 that repeats 24 times (0, 1, 2, 3, 4, 5, 6, 0, 1, ...)\n",
    "days = list(range(7))\n",
    "days = days * 24\n",
    "len(days)\n",
    "\n",
    "# Make a list of hours 0 to 23 that repeats 7 times and is sorted (0, 0, 0, 0, 0, 0, 0, 1, 1, ...)\n",
    "hours = list(range(24))\n",
    "hours = hours * 7\n",
    "hours.sort()\n",
    "hours\n",
    "\n",
    "# pull each hour column and stack them to make a list of traffic counts \n",
    "# for ski season (winter)\n",
    "listWW = []\n",
    "column = range(1,25)\n",
    "for i in column:\n",
    "    lista = list(W_ski_Weekday.iloc[:,i])\n",
    "    listWW += lista\n",
    "listWW\n",
    "\n",
    "listWE = []\n",
    "column = range(1,25)\n",
    "for i in column:\n",
    "    listb = list(E_ski_Weekday.iloc[:,i])\n",
    "    listWE += listb\n",
    "listWE\n",
    "\n",
    "# for summmer\n",
    "listSW = []\n",
    "column = range(1,25)\n",
    "for i in column:\n",
    "    listc = list(W_summer_Weekday.iloc[:,i])\n",
    "    listSW += listc\n",
    "listSW\n",
    "\n",
    "listSE = []\n",
    "column = range(1,25)\n",
    "for i in column:\n",
    "    listd = list(E_summer_Weekday.iloc[:,i])\n",
    "    listSE += listd\n",
    "listSE\n",
    "\n",
    "# for shoulder season (spring/fall)\n",
    "listShW = []\n",
    "column = range(1,25)\n",
    "for i in column:\n",
    "    liste = list(W_shoulder_Weekday.iloc[:,i])\n",
    "    listShW += liste\n",
    "len(listShW)\n",
    "\n",
    "listShE = []\n",
    "column = range(1,25)\n",
    "for i in column:\n",
    "    listf = list(E_shoulder_Weekday.iloc[:,i])\n",
    "    listShE += listf\n",
    "\n",
    "\n",
    "# create dataframes using the days, hours, and list of counts \n",
    "# winter\n",
    "dataWW = {'Weekday': days, 'Hour': hours, 'Count': listWW}\n",
    "W_ski_weekday = pd.DataFrame(dataWW)\n",
    "W_ski_weekday = W_ski_weekday.replace({\"Weekday\": dict2})\n",
    "\n",
    "dataWE = {'Weekday': days, 'Hour': hours, 'Count': listWE}\n",
    "E_ski_weekday= pd.DataFrame(dataWE)\n",
    "E_ski_weekday = E_ski_weekday.replace({\"Weekday\": dict2})\n",
    "\n",
    "# summer\n",
    "dataSW = {'Weekday': days, 'Hour': hours, 'Count': listSW}\n",
    "W_summer_weekday = pd.DataFrame(dataSW)\n",
    "W_summer_weekday = W_summer_weekday.replace({\"Weekday\": dict2})\n",
    "\n",
    "dataSE = {'Weekday': days, 'Hour': hours, 'Count': listSE}\n",
    "E_summer_weekday= pd.DataFrame(dataSE)\n",
    "E_summer_weekday = E_summer_weekday.replace({\"Weekday\": dict2})\n",
    "\n",
    "# spring/fall\n",
    "dataShW = {'Weekday': days, 'Hour': hours, 'Count': listShW}\n",
    "W_shoulder_weekday = pd.DataFrame(dataShW)\n",
    "W_shoulder_weekday = W_shoulder_weekday.replace({\"Weekday\": dict2})\n",
    "\n",
    "dataShE = {'Weekday': days, 'Hour': hours, 'Count': listShE}\n",
    "E_shoulder_weekday= pd.DataFrame(dataShE)\n",
    "E_shoulder_weekday = E_shoulder_weekday.replace({\"Weekday\": dict2})"
   ]
  },
  {
   "cell_type": "code",
   "execution_count": 13,
   "id": "0f4fcb00",
   "metadata": {
    "scrolled": true
   },
   "outputs": [
    {
     "ename": "NameError",
     "evalue": "name 'EastSki' is not defined",
     "output_type": "error",
     "traceback": [
      "\u001b[1;31m---------------------------------------------------------------------------\u001b[0m",
      "\u001b[1;31mNameError\u001b[0m                                 Traceback (most recent call last)",
      "Cell \u001b[1;32mIn[13], line 1\u001b[0m\n\u001b[1;32m----> 1\u001b[0m E_W_Ski \u001b[38;5;241m=\u001b[39m pd\u001b[38;5;241m.\u001b[39mmerge(EastSki, WestSki, on \u001b[38;5;241m=\u001b[39m (\u001b[38;5;124m'\u001b[39m\u001b[38;5;124mHour\u001b[39m\u001b[38;5;124m'\u001b[39m,\u001b[38;5;124m'\u001b[39m\u001b[38;5;124mWeekday\u001b[39m\u001b[38;5;124m'\u001b[39m))\n\u001b[0;32m      2\u001b[0m E_W_Summer \u001b[38;5;241m=\u001b[39m pd\u001b[38;5;241m.\u001b[39mmerge(EastSummer, WestSummer, on \u001b[38;5;241m=\u001b[39m (\u001b[38;5;124m'\u001b[39m\u001b[38;5;124mHour\u001b[39m\u001b[38;5;124m'\u001b[39m,\u001b[38;5;124m'\u001b[39m\u001b[38;5;124mWeekday\u001b[39m\u001b[38;5;124m'\u001b[39m))\n\u001b[0;32m      3\u001b[0m E_W_Shoulder \u001b[38;5;241m=\u001b[39m pd\u001b[38;5;241m.\u001b[39mmerge(EastShoulder, WestShoulder, on \u001b[38;5;241m=\u001b[39m (\u001b[38;5;124m'\u001b[39m\u001b[38;5;124mHour\u001b[39m\u001b[38;5;124m'\u001b[39m,\u001b[38;5;124m'\u001b[39m\u001b[38;5;124mWeekday\u001b[39m\u001b[38;5;124m'\u001b[39m))\n",
      "\u001b[1;31mNameError\u001b[0m: name 'EastSki' is not defined"
     ]
    }
   ],
   "source": [
    "#E_W_Ski = pd.merge(EastSki, WestSki, on = ('Hour','Weekday'))\n",
    "#E_W_Summer = pd.merge(EastSummer, WestSummer, on = ('Hour','Weekday'))\n",
    "#E_W_Shoulder = pd.merge(EastShoulder, WestShoulder, on = ('Hour','Weekday'))\n",
    "#E_W_Ski.loc[E_W_Ski.Weekday == 4, ].plot.bar(x = 'Hour', y = ['Count_ESki' , 'Count_WSki'])"
   ]
  },
  {
   "cell_type": "code",
   "execution_count": null,
   "id": "6ca6ec73",
   "metadata": {
    "scrolled": true
   },
   "outputs": [],
   "source": [
    "# rename count column in each data frame\n",
    "EastSki = E_ski_weekday.rename(columns={\"Count\": \"Count_ESki\"})\n",
    "WestSki = W_ski_weekday.rename(columns={\"Count\": \"Count_WSki\"})\n",
    "WestSummer = W_summer_weekday.rename(columns={\"Count\": \"Count_WSummer\"})\n",
    "EastSummer = E_summer_weekday.rename(columns={\"Count\": \"Count_ESummer\"})\n",
    "WestShoulder = W_shoulder_weekday.rename(columns={\"Count\": \"Count_WShoulder\"})\n",
    "EastShoulder = E_shoulder_weekday.rename(columns={\"Count\": \"Count_EShoulder\"})\n",
    "\n",
    "# merge data frame into one dataframe that includes counts for each season east and west \n",
    "All_Seasons = pd.merge(EastSki, WestSki, on = ('Hour','Weekday'))\n",
    "All_Seasons = pd.merge(All_Seasons, EastSummer, on = ('Hour','Weekday'))\n",
    "All_Seasons = pd.merge(All_Seasons, WestSummer, on = ('Hour','Weekday'))\n",
    "All_Seasons = pd.merge(All_Seasons, EastShoulder, on = ('Hour','Weekday'))\n",
    "All_Seasons = pd.merge(All_Seasons, WestShoulder, on = ('Hour','Weekday'))"
   ]
  },
  {
   "cell_type": "code",
   "execution_count": null,
   "id": "11618223",
   "metadata": {},
   "outputs": [],
   "source": [
    "All_Seasons"
   ]
  },
  {
   "cell_type": "code",
   "execution_count": null,
   "id": "2a57ad6e",
   "metadata": {},
   "outputs": [],
   "source": [
    "# create a dataframe that show all points East and West for time 0, 6, 10, 16, 20\n",
    "list0_ = list(Eisenhower_West['HOUR0'])\n",
    "list6_ = list(Eisenhower_West['HOUR6'])\n",
    "list10_ = list(Eisenhower_West['HOUR10'])\n",
    "list16_ = list(Eisenhower_West['HOUR16'])\n",
    "list20_ = list(Eisenhower_West['HOUR20'])\n",
    "listdate = list(Eisenhower_West['FormattedDate'])\n",
    "listweekday = list(Eisenhower_West['Weekday'])\n",
    "listdate_ = listdate * 5\n",
    "hours_ = list0_ + list6_ + list10_ + list16_ + list20_\n",
    "list0_E = list(Eisenhower_East['HOUR0'])\n",
    "list6_E = list(Eisenhower_East['HOUR6'])\n",
    "list10_E = list(Eisenhower_East['HOUR10'])\n",
    "list16_E = list(Eisenhower_East['HOUR16'])\n",
    "list20_E = list(Eisenhower_East['HOUR20'])\n",
    "hours_E = list0_E + list6_E + list10_E + list16_E + list20_E\n",
    "weekday = listweekday * 5\n",
    "time_ = [0, 6, 10, 16, 20]\n",
    "time = time_ * 2037\n",
    "time.sort()\n",
    "timeseries = {'Date' : listdate_, 'Time' : time, 'Count_W' : hours_ , 'Count_E' : hours_E , 'Weekday' : weekday}\n",
    "Timeseries = pd.DataFrame(timeseries)\n",
    "Timeseries['COUNTDATE'] = pd.to_datetime(Timeseries['Date'], infer_datetime_format = True)\n",
    "Timeseries = Timeseries.sort_values(['COUNTDATE', 'Time'])\n",
    "Timeseries = Timeseries.set_index('COUNTDATE')\n",
    "Timeseries['Month'] = Timeseries.index.month\n",
    "Timeseries['Year'] = Timeseries.index.year"
   ]
  },
  {
   "cell_type": "code",
   "execution_count": null,
   "id": "61bfe866",
   "metadata": {},
   "outputs": [],
   "source": [
    "# Make a dataframe that consist of the mean hourly count of cars for each month of each year \n",
    "Group_Time = Timeseries.groupby(['Year', 'Month']).agg('mean')"
   ]
  },
  {
   "cell_type": "code",
   "execution_count": null,
   "id": "b0238fa5",
   "metadata": {},
   "outputs": [],
   "source": [
    "#remname all months and days to appropriate names \n",
    "dict = {1 : 'January', 2 : 'February', 3 : 'March', 4: 'April', 5 : 'May', 6 : 'June', 7 : \n",
    "        'July', 8 : 'August', 9 : 'September', 10 : 'October', 11 : 'November', 12 : 'December'}\n",
    "dict2 = {0 : 'Monday', 1 : 'Tuesday', 2 : 'Wednesday',  3: 'Thursday', 4 : 'Friday', 5 : 'Saturday', 6 : 'Sunday'}\n",
    "Timeseries = Timeseries.replace({\"Month\": dict})\n",
    "Timeseries = Timeseries.replace({\"Weekday\": dict2})"
   ]
  },
  {
   "cell_type": "code",
   "execution_count": null,
   "id": "c1bdb1c2",
   "metadata": {
    "scrolled": true
   },
   "outputs": [],
   "source": [
    "#& ((All_Seasons.Hour > 4) & (All_Seasons.Hour < 20))\n",
    "All_Seasons.loc[(All_Seasons.Weekday == 'Friday'), ].plot.bar(\n",
    "    x = 'Hour', y = ['Count_WSki', 'Count_WSummer', 'Count_WShoulder'], \n",
    "    label = ['Ski Season \\n (Dec/Jan/Feb/Mar)', 'Summer \\n (June/July/Aug/Sept)', 'Shoulder Season \\n (April/May/Oct/Nov)'],  \n",
    "    color = ['blue','pink', 'brown'], \n",
    "    figsize = (12, 4), \n",
    "    width = .75, \n",
    "    edgecolor='white')\n",
    "plt.title('Mean Traffic Volume Counts by Season - Friday Westbound', fontsize = 12)\n",
    "plt.ylabel('Count')\n",
    "plt.legend()\n",
    "plt.ylabel('Traffic Count (per hour)')\n",
    "plt.xlabel('Time')"
   ]
  },
  {
   "cell_type": "code",
   "execution_count": null,
   "id": "f4dbe020",
   "metadata": {
    "scrolled": false
   },
   "outputs": [],
   "source": [
    "#All_Seasons.loc[(All_Seasons.Weekday == 'Sunday') & (All_Seasons.Hour < 12), ].plot.bar(\n",
    "All_Seasons.loc[(All_Seasons.Weekday == 'Sunday'), ].plot.bar(\n",
    "    x = 'Hour', y = ['Count_WSki', 'Count_WSummer', 'Count_WShoulder'], \n",
    "    label = ['Ski Season \\n (Dec/Jan/Feb/Mar)', 'Summer \\n (June/July/Aug/Sept)', 'Shoulder Season \\n (April/May/Oct/Nov)'],  \n",
    "    color = ['blue','pink', 'brown'], \n",
    "    figsize = (12, 4), \n",
    "    width = .75, \n",
    "    edgecolor='white')\n",
    "plt.title('Mean Traffic Volume Counts by Season - Saturday Westbound', fontsize = 12)\n",
    "plt.ylabel('Count')\n",
    "plt.legend()\n",
    "plt.ylabel('Traffic Count (per hour)')\n",
    "plt.xlabel('Time')"
   ]
  },
  {
   "cell_type": "code",
   "execution_count": null,
   "id": "278ba3ff",
   "metadata": {},
   "outputs": [],
   "source": [
    "All_Seasons"
   ]
  },
  {
   "cell_type": "code",
   "execution_count": null,
   "id": "bbce7f45",
   "metadata": {},
   "outputs": [],
   "source": [
    "All_Seasons.loc[(All_Seasons.Weekday == 'Friday') & (All_Seasons.Hour > 12), ].plot.bar(\n",
    "     x = 'Hour', y = ['Count_WSki', 'Count_WSummer', 'Count_WShoulder'], \n",
    "    label = ['Ski Season \\n (Dec/Jan/Feb/Mar)', 'Summer \\n (June/July/Aug/Sept)', 'Shoulder Season \\n (April/May/Oct/Nov)'],  \n",
    "    color = ['blue','pink', 'brown'], \n",
    "    figsize = (12, 4), \n",
    "    width = .75, \n",
    "    edgecolor='white')\n",
    "plt.title('Mean Traffic Volume Counts by Season - Friday', fontsize = 12)\n",
    "plt.ylabel('Count')\n",
    "plt.legend()\n",
    "plt.ylabel('Total Count (per hour)')\n",
    "plt.xlabel('24 hour clock (hours)')"
   ]
  },
  {
   "cell_type": "code",
   "execution_count": null,
   "id": "6284db09",
   "metadata": {},
   "outputs": [],
   "source": [
    "# not nearly as much Sunday am traffic during shoulder season (April, May, October, November)\n",
    "All_Seasons.loc[(All_Seasons.Weekday == 'Sunday'), ].plot.bar(\n",
    "      x = 'Hour', y = ['Count_ESki', 'Count_ESummer', 'Count_EShoulder'], \n",
    "    label = ['Ski Season \\n (Dec/Jan/Feb/Mar)', 'Summer \\n (June/July/Aug/Sept)', 'Shoulder Season \\n (April/May/Oct/Nov)'],  \n",
    "    color = ['blue','pink', 'brown'], \n",
    "    figsize = (12, 4), \n",
    "    width = .75, \n",
    "    edgecolor='white')\n",
    "plt.title('Mean Traffic Volume Counts by Season - Sunday Eastbound', fontsize = 12)\n",
    "plt.ylabel('Count')\n",
    "plt.legend()\n",
    "plt.ylabel('Total Count (per hour)')\n",
    "plt.xlabel('Time')"
   ]
  },
  {
   "cell_type": "code",
   "execution_count": null,
   "id": "7b7a9a20",
   "metadata": {},
   "outputs": [],
   "source": [
    "All_Seasons.loc[(All_Seasons.Weekday == 'Saturday'), ].plot.bar(\n",
    "     x = 'Hour', y = ['Count_ESki', 'Count_ESummer', 'Count_EShoulder'], \n",
    "    label = ['Ski Season \\n (Dec/Jan/Feb/Mar)', 'Summer \\n (June/July/Aug/Sept)', 'Shoulder Season \\n (April/May/Oct/Nov)'],  \n",
    "    color = ['blue','pink', 'brown'], \n",
    "    figsize = (12, 4), \n",
    "    width = .75, \n",
    "    edgecolor='white')\n",
    "plt.title('Mean Traffic Volume Counts by Season - Saturday Eastbound', fontsize = 12)\n",
    "plt.ylabel('Count')\n",
    "plt.legend()\n",
    "plt.ylabel('Total Count (per hour)')\n",
    "plt.xlabel('Time')"
   ]
  },
  {
   "cell_type": "code",
   "execution_count": null,
   "id": "073d6921",
   "metadata": {
    "scrolled": false
   },
   "outputs": [],
   "source": [
    "Westbound_Winter= px.scatter(W_ski_weekday, x=\"Hour\", y=\"Count\", color=\"Weekday\",\n",
    "           hover_name=\"Weekday\", title = 'Westbound Hourly Mean Traffic Count by Weekday During Ski Season')\n",
    "\n",
    "Westbound_Winter.update_yaxes(title = 'Traffic Count')\n",
    "Westbound_Winter.update_xaxes(title = 'Time')\n",
    "\n",
    "Westbound_Winter.show()\n",
    "Westbound_Winter.write_image(\"images/Westbound_Winter.png\")"
   ]
  },
  {
   "cell_type": "code",
   "execution_count": null,
   "id": "710fccbf",
   "metadata": {},
   "outputs": [],
   "source": [
    "Westbound_Summer= px.scatter(W_summer_weekday, x=\"Hour\", y=\"Count\", color=\"Weekday\",\n",
    "           hover_name=\"Weekday\", title = 'Westbound Hourly Mean Traffic Count by Weekday During the Summer')\n",
    "\n",
    "Westbound_Summer.update_yaxes(title = 'Traffic Count')\n",
    "Westbound_Summer.update_xaxes(title = 'Time')\n",
    "Westbound_Summer.write_image(\"images/Westbound_Summer.png\")\n",
    "Westbound_Summer.show()"
   ]
  },
  {
   "cell_type": "code",
   "execution_count": null,
   "id": "1bf91837",
   "metadata": {
    "scrolled": false
   },
   "outputs": [],
   "source": [
    "Westbound_Shoulder= px.scatter(W_shoulder_weekday, x=\"Hour\", y=\"Count\", color=\"Weekday\",\n",
    "           hover_name=\"Weekday\", range_y = (0,2000), title = 'Westbound Hourly Mean Traffic Count by Weekday During Shoulder Season')\n",
    "Westbound_Shoulder.update_yaxes(title = 'Traffic Count')\n",
    "Westbound_Shoulder.update_xaxes(title = 'Time')\n",
    "Westbound_Shoulder.show()"
   ]
  },
  {
   "cell_type": "code",
   "execution_count": null,
   "id": "35a6722f",
   "metadata": {
    "scrolled": false
   },
   "outputs": [],
   "source": [
    "Eastbound_Winter = px.scatter(E_ski_weekday, x=\"Hour\", y=\"Count\", color=\"Weekday\",\n",
    "           hover_name=\"Weekday\", title = 'Eastbound Hourly Mean Traffic Count by Weekday During Ski Season')\n",
    "\n",
    "\n",
    "Eastbound_Winter.update_yaxes(title = 'Traffic Count')\n",
    "Eastbound_Winter.update_xaxes(title = 'Time')\n",
    "Eastbound_Winter.show()\n",
    "#Eastbound_Winter.write_image(\"images/Eastbound_Winter_byWeekday.png\")"
   ]
  },
  {
   "cell_type": "code",
   "execution_count": null,
   "id": "31618166",
   "metadata": {},
   "outputs": [],
   "source": [
    "# I think high traffic Sunday am due to travel to airport??? Many 5 - 8 pm flights \n",
    "Eastbound_Summer= px.scatter(E_summer_weekday, x=\"Hour\", y=\"Count\", color=\"Weekday\",\n",
    "           hover_name=\"Weekday\", title = 'Eastbound Hourly Mean Traffic Count by Weekday During the Summer')\n",
    "\n",
    "Eastbound_Summer.update_yaxes(title = 'Traffic Count')\n",
    "Eastbound_Summer.update_xaxes(title = 'Time')\n",
    "Eastbound_Summer.show()\n",
    "#Eastbound_Winter.write_image(\"images/Eastbound_Winter_byWeekday.png\")"
   ]
  },
  {
   "cell_type": "code",
   "execution_count": null,
   "id": "7ddd7518",
   "metadata": {},
   "outputs": [],
   "source": [
    "Eastbound_Shoulder= px.scatter(E_shoulder_weekday, x=\"Hour\", y=\"Count\", color=\"Weekday\",\n",
    "           hover_name=\"Weekday\", title = 'Eastbound Hourly Mean Traffic Count by Weekday During the Shoulder Season')\n",
    "\n",
    "Eastbound_Shoulder.update_yaxes(title = 'Traffic Count')\n",
    "Eastbound_Shoulder.update_xaxes(title = 'Time')\n",
    "Eastbound_Shoulder.show()"
   ]
  },
  {
   "cell_type": "code",
   "execution_count": null,
   "id": "25368a57",
   "metadata": {
    "scrolled": true
   },
   "outputs": [],
   "source": [
    "# not significant dif. pre and post covid westbound in Feb to April \n",
    "scipy.stats.f_oneway(All_Covid.CountPre, All_Covid.CountPost, axis = 0)"
   ]
  },
  {
   "cell_type": "code",
   "execution_count": null,
   "id": "686973ee",
   "metadata": {
    "scrolled": true
   },
   "outputs": [],
   "source": [
    "# very significant difference during covid \n",
    "scipy.stats.f_oneway(All_Covid.CountPre, All_Covid.CountDur, All_Covid.CountPost, axis = 0)"
   ]
  },
  {
   "cell_type": "code",
   "execution_count": null,
   "id": "25b1cf82",
   "metadata": {},
   "outputs": [],
   "source": [
    "scipy.stats.ttest_ind(All_Covid.CountDur, All_Covid.CountPre)"
   ]
  },
  {
   "cell_type": "code",
   "execution_count": null,
   "id": "d58c3fa3",
   "metadata": {},
   "outputs": [],
   "source": [
    "Covid_stacked.head(50)"
   ]
  },
  {
   "cell_type": "code",
   "execution_count": null,
   "id": "842a89f3",
   "metadata": {
    "scrolled": false
   },
   "outputs": [],
   "source": [
    "fig = px.violin(Covid_stacked, y = 'Count', x= \"Time\", \n",
    "                box=True, \n",
    "                points=\"suspectedoutliers\",  \n",
    "                width = 1000, \n",
    "                title = 'Distribution of Mean Hourly Traffic grouped by Month and Weeekday')\n",
    "fig.update_traces(fillcolor = 'green',\n",
    "                  line_color = 'blue',\n",
    "                  marker_line_outliercolor= 'black',\n",
    "                  box_fillcolor = 'red',\n",
    "                  opacity = 0.5)\n",
    "fig.add_trace(go.Scatter(\n",
    "    x=['Pre', 'During', 'Post'],\n",
    "    y=[706.4, 354.75, 724.5],\n",
    "    mode=\"markers+text\",\n",
    "    name=\"Markers and Text\",\n",
    "    text=[\"Median = \\n 706.4\", \"Median = \\n 354.75\", \"Median = \\n 724.5\"],\n",
    "    textposition=\"bottom right\"\n",
    "))\n",
    "\n",
    "fig.update_yaxes(title = 'Mean Traffic Count (per hour)')\n",
    "fig.update_xaxes(title = 'Time Period Relative to Covid-19 Pandemic')\n",
    "\n",
    "fig.show()"
   ]
  },
  {
   "cell_type": "code",
   "execution_count": null,
   "id": "6156031d",
   "metadata": {},
   "outputs": [],
   "source": [
    "All"
   ]
  },
  {
   "cell_type": "code",
   "execution_count": null,
   "id": "b6e64232",
   "metadata": {
    "scrolled": false
   },
   "outputs": [],
   "source": [
    "Covid_Correlation = px.scatter_matrix(All_Covid, dimensions=['CountPre', 'CountDur', 'CountPost'], \n",
    "                                      color=\"Month\", \n",
    "                                      color_discrete_sequence = ['blue', 'cyan', 'purple'], \n",
    "                                      title = 'Relationship among Pre, During, and Post-Pandemic Mean Hourly Traffic Counts')\n",
    "Covid_Correlation.show()"
   ]
  },
  {
   "cell_type": "code",
   "execution_count": null,
   "id": "391ef239",
   "metadata": {
    "scrolled": false
   },
   "outputs": [],
   "source": [
    "fig = px.bar(Covid_stacked, x= \"Hour\", y= \"Count\", color= \"Month\", \n",
    "             barmode=\"relative\", facet_row=\"Time\", facet_col=\"Weekday\", \n",
    "             labels ={\"Weekday\": \"Day\"},\n",
    "             color_discrete_sequence = ['blue', 'cyan', 'purple'],\n",
    "             title = 'Weekly and Monthly Variation in Traffic Pre, During, and Post-Pandemic ')\n",
    "fig.show()"
   ]
  },
  {
   "cell_type": "code",
   "execution_count": null,
   "id": "be58d1c4",
   "metadata": {},
   "outputs": [],
   "source": [
    "All_Seasons"
   ]
  },
  {
   "cell_type": "code",
   "execution_count": null,
   "id": "2ee40abf",
   "metadata": {},
   "outputs": [],
   "source": [
    "EW_weekdays = Eisenhower_West.replace ({'Weekday': dict2})\n",
    "EE_weekdays = Eisenhower_East.replace ({'Weekday': dict2})"
   ]
  },
  {
   "cell_type": "code",
   "execution_count": null,
   "id": "e16b27ed",
   "metadata": {
    "scrolled": false
   },
   "outputs": [],
   "source": [
    "fig = px.violin(EW_weekdays, y = 'HOUR6', x= \"Weekday\", \n",
    "                box=True, \n",
    "                points=\"suspectedoutliers\", \n",
    "                hover_data= Eisenhower_West.columns, \n",
    "                width = 1000, \n",
    "                title = 'Distribution of all Westbound Traffic at 6 am')\n",
    "fig.update_traces(fillcolor = 'green',\n",
    "                  line_color = 'blue',\n",
    "                  marker_line_outliercolor= 'black',\n",
    "                  box_fillcolor = 'red',\n",
    "                  opacity = 0.5)\n",
    "fig.update_yaxes(title = 'Traffic Count')\n",
    "fig.show()"
   ]
  },
  {
   "cell_type": "code",
   "execution_count": null,
   "id": "c2a7bf6d",
   "metadata": {
    "scrolled": true
   },
   "outputs": [],
   "source": [
    "fig = px.violin(EE_weekdays, y = 'HOUR10', x= \"Weekday\", \n",
    "                box=True, \n",
    "                points=\"suspectedoutliers\", \n",
    "                hover_data= Eisenhower_West.columns, \n",
    "                width = 1000, \n",
    "                title = 'Distribution of all Eastbound Traffic at 10 am')\n",
    "fig.update_traces(fillcolor = 'green',\n",
    "                  line_color = 'blue',\n",
    "                  marker_line_outliercolor= 'black',\n",
    "                  box_fillcolor = 'red',\n",
    "                  opacity = 0.5)\n",
    "fig.update_yaxes(title = 'Traffic Count')\n",
    "\n",
    "fig.show()"
   ]
  },
  {
   "cell_type": "code",
   "execution_count": null,
   "id": "69d9a67e",
   "metadata": {
    "scrolled": true
   },
   "outputs": [],
   "source": [
    "# possibly want to use median instead of mean because of so many outlyers\n",
    "# don't really get outlyers (especially high outlyers) at peak traffic \n",
    "Box2 = Eisenhower_West[['Weekday', 'HOUR7']]\n",
    "Box2.boxplot(by = 'Weekday', column = 'HOUR7')\n",
    "plt.ylabel('Count')"
   ]
  },
  {
   "cell_type": "code",
   "execution_count": null,
   "id": "0eedf78c",
   "metadata": {
    "scrolled": true
   },
   "outputs": [],
   "source": [
    "Box2 = Eisenhower_West[['Weekday', 'HOUR16']]\n",
    "Box2.boxplot(by = 'Weekday', column = 'HOUR16')\n",
    "plt.ylabel('Count')"
   ]
  },
  {
   "cell_type": "code",
   "execution_count": null,
   "id": "e26d2aa3",
   "metadata": {
    "scrolled": true
   },
   "outputs": [],
   "source": [
    "Box = Eisenhower_East[['Weekday', 'HOUR10']]\n",
    "Box.boxplot(by = 'Weekday', column = 'HOUR10')\n",
    "plt.ylabel('Count')"
   ]
  },
  {
   "cell_type": "code",
   "execution_count": null,
   "id": "f0adc9ce",
   "metadata": {},
   "outputs": [],
   "source": [
    "Box = Eisenhower_East[['Weekday', 'HOUR17']]\n",
    "Box.boxplot(by = 'Weekday', column = 'HOUR17')\n",
    "plt.ylabel('Count')"
   ]
  },
  {
   "cell_type": "code",
   "execution_count": null,
   "id": "6c46a402",
   "metadata": {
    "scrolled": false
   },
   "outputs": [],
   "source": [
    "Group_Time.iloc[:, 2:4]"
   ]
  },
  {
   "cell_type": "code",
   "execution_count": null,
   "id": "f222570f",
   "metadata": {},
   "outputs": [],
   "source": [
    "Group_Time.iloc[:, 1:3]"
   ]
  },
  {
   "cell_type": "code",
   "execution_count": null,
   "id": "69788d82",
   "metadata": {
    "scrolled": true
   },
   "outputs": [],
   "source": [
    "plt.figure().set_figwidth(12)\n",
    "a = range(0,69)\n",
    "plt.plot(a,'Count_E', data = Group_Time, color = 'purple', label = 'Traffic Count')\n",
    "plt.xlabel('Date')\n",
    "plt.ylabel('Mean Traffic Count (per hour)')\n",
    "plt.xticks(range(0,70,6))\n",
    "plt.title('Monthly Variation in Mean Hourly Traffic Count - Eisenhower Tunnel I-70E CO')\n",
    "plt.grid(True, linestyle='-')\n",
    "plt.vlines([0, 12, 24, 36, 48, 60], 0, 1000, linestyles='--', colors='blue', label = 'January')\n",
    "plt.vlines([6, 18, 30, 42, 54, 66], 0, 1000, linestyles='--', colors='pink', label = 'July')\n",
    "plt.vlines(26.48, 0, 1000, linestyles='--', colors='orange', label = '3/15/2020 \\n Vail Resorts close')\n",
    "plt.vlines(24.58, 0, 1000, linestyles='--', colors='red', label = '1/18/2020 \\n 1st US Covid case')\n",
    "plt.legend(frameon = True, framealpha = 1, facecolor = 'w', bbox_to_anchor = (.8, .5), loc = 'upper left')\n",
    "plt.xticks(ticks=[0, 6, 12, 18, 24, 30, 36, 42, 48, 54, 60, 66], \n",
    "           labels=['1/2018', '7/2018', '1/2019', '7/2019','1/2020', '7/2020','1/2021', '7/2021',\n",
    "                   '1/2022', '7/2022','1/2023', '7/2023'])\n",
    "plt.show()"
   ]
  },
  {
   "cell_type": "code",
   "execution_count": null,
   "id": "3025c737",
   "metadata": {
    "scrolled": false
   },
   "outputs": [],
   "source": [
    "plt.figure().set_figwidth(12)\n",
    "a = range(0,69)\n",
    "plt.plot(a,'Count_W', data = Group_Time, color = 'olive', label = 'Traffic Count')\n",
    "plt.xlabel('Date')\n",
    "plt.ylabel('Mean Traffic Count (per hour)')\n",
    "plt.xticks(range(0,70,6))\n",
    "plt.title('Monthly Variation in Mean Hourly Traffic Count - Eisenhower Tunnel I-70W CO')\n",
    "plt.grid(True, linestyle='-')\n",
    "plt.vlines([0, 12, 24, 36, 48, 60], 0, 1000, linestyles='--', colors='blue', label = 'January')\n",
    "plt.vlines([6, 18, 30, 42, 54, 66], 0, 1000, linestyles='--', colors='pink', label = 'July')\n",
    "plt.vlines(26.48, 0, 1000, linestyles='--', colors='orange', label = '3/15/2020 \\n Vail Resorts close')\n",
    "plt.vlines(24.58, 0, 1000, linestyles='--', colors='red', label = '1/18/2020 \\n 1st US Covid case')\n",
    "plt.legend(frameon = True, framealpha = 1, facecolor = 'w', bbox_to_anchor = (.8, .5), loc = 'upper left')\n",
    "plt.xticks(ticks=[0, 6, 12, 18, 24, 30, 36, 42, 48, 54, 60, 66], \n",
    "           labels=['1/2018', '7/2018', '1/2019', '7/2019','1/2020', '7/2020','1/2021', '7/2021',\n",
    "                   '1/2022', '7/2022','1/2023', '7/2023'])\n",
    "plt.show()"
   ]
  },
  {
   "cell_type": "code",
   "execution_count": null,
   "id": "e4fe8a38",
   "metadata": {},
   "outputs": [],
   "source": [
    "fig3 = go.Figure()\n",
    "\n",
    "\n",
    "fig3.add_trace(go.Scatter(x=Timeseries.index, y=Timeseries.Count_E,\n",
    "                    mode='lines',\n",
    "                    name='East',\n",
    "                    line_color = 'purple'))\n",
    "fig3.add_trace(go.Scatter(x=Timeseries.index, y=Timeseries.Count_W,\n",
    "                    mode='lines',\n",
    "                    name='West',\n",
    "                    line_color = 'olive'))\n",
    "\n",
    "fig3.update_layout(width = 1400, height = 600, title = 'Traffic Volume Counts at the Eisenhower Tunnel I-70 CO')\n",
    "fig3.update_yaxes(title = 'Traffic Count (per hour)')\n",
    "fig3.update_xaxes(title = 'Date')\n",
    "fig3.show()"
   ]
  },
  {
   "cell_type": "code",
   "execution_count": null,
   "id": "ab0caf0a",
   "metadata": {
    "scrolled": true
   },
   "outputs": [],
   "source": [
    "Timeseries.groupby('Time')['Count_W', 'Count_E'].mean().plot.bar(\n",
    "    color = ['olive', 'purple'],\n",
    "    figsize = (10, 4),\n",
    "    width = .5,\n",
    "    edgecolor = 'white')\n",
    "plt.title('Hourly Mean Traffic Volume', fontsize = 12)\n",
    "#plt.legend()\n",
    "plt.ylabel('Traffic Count')\n",
    "plt.xlabel('Time')"
   ]
  },
  {
   "cell_type": "code",
   "execution_count": null,
   "id": "026473b2",
   "metadata": {
    "scrolled": false
   },
   "outputs": [],
   "source": [
    "figday = px.bar(Timeseries.groupby('Weekday')['Count_W', 'Count_E'].mean(), \n",
    "       barmode = 'group',  \n",
    "       title = 'Mean Houly Traffic Volume by Day of the Week (mean from 12am, 6am, 10am, 4pm, and 8pm)',\n",
    "       color_discrete_sequence = ['olive', 'purple'],\n",
    "       category_orders = {'Weekday' : ['Monday', 'Tuesday', 'Wednesday', 'Thursday', \n",
    "                                      'Friday', 'Saturday', 'Sunday']})\n",
    "\n",
    "figday.update_yaxes(title = 'Traffic Count')\n"
   ]
  },
  {
   "cell_type": "code",
   "execution_count": null,
   "id": "ad844fe1",
   "metadata": {},
   "outputs": [],
   "source": [
    "Timeseries.groupby('Month')['Count_W', 'Count_E'].mean()"
   ]
  },
  {
   "cell_type": "code",
   "execution_count": null,
   "id": "91e1f96a",
   "metadata": {
    "scrolled": false
   },
   "outputs": [],
   "source": [
    "figmonth = px.bar(Timeseries.groupby('Month')['Count_W', 'Count_E'].mean(), \n",
    "       barmode = 'group',  \n",
    "       title = 'Mean Houly Traffic Volume by Month (mean from 12am, 6am, 10am, 4pm, and 8pm)',\n",
    "       color_discrete_sequence = ['olive', 'purple'],\n",
    "       category_orders = {'Month' : ['January', 'February', 'March', 'April', 'May', 'June', \n",
    "                                   'July', 'August', 'September', 'October', 'November', 'December']})\n",
    "\n",
    "figmonth.add_trace(go.Scatter(\n",
    "    x=['April', 'July', 'October'],\n",
    "    y=[700, 950, 750],\n",
    "    mode=\"text\",\n",
    "    name=\"Markers and Text\",\n",
    "    text=[\"Shoulder Season\", \"Summer\", \"Shoulder Season\"],\n",
    "    textposition=\"bottom right\"\n",
    "))\n",
    "\n",
    "figmonth.add_trace(go.Scatter(\n",
    "    x=['February', 'December'],\n",
    "    y=[900, 800],\n",
    "    mode=\"text\",\n",
    "    name=\"Markers and Text\",\n",
    "    text=[\"Ski Season\", 'Ski Season'],\n",
    "    textposition=\"bottom center\"\n",
    "))\n",
    "\n",
    "figmonth.update_yaxes(title = 'Traffic Count')\n",
    "\n"
   ]
  }
 ],
 "metadata": {
  "kernelspec": {
   "display_name": "Python 3 (ipykernel)",
   "language": "python",
   "name": "python3"
  },
  "language_info": {
   "codemirror_mode": {
    "name": "ipython",
    "version": 3
   },
   "file_extension": ".py",
   "mimetype": "text/x-python",
   "name": "python",
   "nbconvert_exporter": "python",
   "pygments_lexer": "ipython3",
   "version": "3.11.4"
  }
 },
 "nbformat": 4,
 "nbformat_minor": 5
}
